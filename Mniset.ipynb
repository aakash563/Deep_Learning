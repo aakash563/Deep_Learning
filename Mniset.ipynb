{
  "nbformat": 4,
  "nbformat_minor": 0,
  "metadata": {
    "colab": {
      "provenance": [],
      "gpuType": "T4"
    },
    "kernelspec": {
      "name": "python3",
      "display_name": "Python 3"
    },
    "accelerator": "GPU"
  },
  "cells": [
    {
      "cell_type": "code",
      "metadata": {
        "id": "yvM_3x7YHOxB"
      },
      "source": [
        "# mnist (benchmark) dataset\n",
        "\n",
        "# It is a dataset of handwritten images\n",
        "\n",
        "# http://yann.lecun.com/exdb/mnist/\n",
        "\n",
        "\n",
        "# The MNIST database of handwritten digits, available from this page, has a training set of 60,000 examples,\n",
        "# and a test set of 10,000 examples. It is a subset of a larger set available from NIST. The digits have been\n",
        "# size-normalized and centered in a fixed-size image.\n",
        "\n",
        "# It is a good database for people who want to try learning techniques and pattern recognition methods on real-world\n",
        "# data while spending minimal efforts on preprocessing and formatting.'''\n"
      ],
      "execution_count": 1,
      "outputs": []
    },
    {
      "cell_type": "code",
      "metadata": {
        "id": "WE9YhKwAJCqd",
        "colab": {
          "base_uri": "https://localhost:8080/"
        },
        "outputId": "cebc8c4c-45cf-4bc3-a444-caad2abf3176"
      },
      "source": [
        "!pip install keras"
      ],
      "execution_count": 2,
      "outputs": [
        {
          "output_type": "stream",
          "name": "stdout",
          "text": [
            "Requirement already satisfied: keras in /usr/local/lib/python3.10/dist-packages (2.12.0)\n"
          ]
        }
      ]
    },
    {
      "cell_type": "code",
      "metadata": {
        "id": "FZnxeVgKHj-X"
      },
      "source": [
        "import numpy as np\n",
        "import keras\n",
        "from keras.datasets import mnist\n",
        "from keras.models import Model\n",
        "from keras.layers import Dense, Input\n",
        "from keras.layers import Conv2D, MaxPooling2D, Dropout, Flatten\n",
        "from keras import backend as k"
      ],
      "execution_count": 3,
      "outputs": []
    },
    {
      "cell_type": "code",
      "metadata": {
        "id": "UukaOxZeHT2p",
        "colab": {
          "base_uri": "https://localhost:8080/"
        },
        "outputId": "d5cb1991-6b74-472d-9b7a-bf9dd1a7b16e"
      },
      "source": [
        "(x_train, y_train), (x_test, y_test) = mnist.load_data()"
      ],
      "execution_count": 4,
      "outputs": [
        {
          "output_type": "stream",
          "name": "stdout",
          "text": [
            "Downloading data from https://storage.googleapis.com/tensorflow/tf-keras-datasets/mnist.npz\n",
            "11490434/11490434 [==============================] - 0s 0us/step\n"
          ]
        }
      ]
    },
    {
      "cell_type": "code",
      "metadata": {
        "id": "TtssWn98J0nC",
        "colab": {
          "base_uri": "https://localhost:8080/",
          "height": 468
        },
        "outputId": "8d999d31-c80c-44ea-9cc1-16f016942c3b"
      },
      "source": [
        "# Display the dataset\n",
        "from matplotlib import pyplot\n",
        "print('Train: X=%s, y=%s' % (x_train.shape, y_train.shape))\n",
        "print('Test: X=%s, y=%s' % (x_test.shape, y_test.shape))\n",
        "# plot first few images\n",
        "for i in range(9):\n",
        "\t# define subplot\n",
        "\tpyplot.subplot(330 + 1 + i)\n",
        "\t# plot raw pixel data\n",
        "\tpyplot.imshow(x_train[i], cmap=pyplot.get_cmap('gray'))\n",
        "# show the figure\n",
        "pyplot.show()"
      ],
      "execution_count": 5,
      "outputs": [
        {
          "output_type": "stream",
          "name": "stdout",
          "text": [
            "Train: X=(60000, 28, 28), y=(60000,)\n",
            "Test: X=(10000, 28, 28), y=(10000,)\n"
          ]
        },
        {
          "output_type": "display_data",
          "data": {
            "text/plain": [
              "<Figure size 640x480 with 9 Axes>"
            ],
            "image/png": "[encoded data removed]"
          },
          "metadata": {}
        }
      ]
    },
    {
      "cell_type": "code",
      "metadata": {
        "id": "E5t_8JEl49zT"
      },
      "source": [],
      "execution_count": 5,
      "outputs": []
    },
    {
      "cell_type": "code",
      "metadata": {
        "id": "CWv81nl6IMns"
      },
      "source": [
        "img_rows, img_cols=28, 28\n",
        "\n",
        "if k.image_data_format() == 'channels_first':\n",
        "  #reshape dataset to have a single channel\n",
        "   x_train = x_train.reshape(x_train.shape[0], 1, img_rows, img_cols)\n",
        "   x_test = x_test.reshape(x_test.shape[0], 1, img_rows, img_cols)\n",
        "   inpx = (1, img_rows, img_cols)\n",
        "else:\n",
        "  #reshape dataset to have a single channel\n",
        "   x_train = x_train.reshape(x_train.shape[0], img_rows, img_cols, 1)\n",
        "   x_test = x_test.reshape(x_test.shape[0], img_rows, img_cols, 1)\n",
        "   inpx = (img_rows, img_cols, 1)"
      ],
      "execution_count": 6,
      "outputs": []
    },
    {
      "cell_type": "code",
      "metadata": {
        "id": "4u5hlLCQ5Cfh"
      },
      "source": [
        "#convert from integers to floats\n",
        "x_train = x_train.astype('float32')\n",
        "x_test = x_test.astype('float32')\n",
        "\n",
        "# Nor. 0 to 1\n",
        "x_train /= 255\n",
        "x_test /= 255"
      ],
      "execution_count": 7,
      "outputs": []
    },
    {
      "cell_type": "code",
      "metadata": {
        "id": "iMmSKO7UIOf0"
      },
      "source": [
        "# convert class vectors to binary class matrices  OR one hot encode target values\n",
        "y_train = keras.utils.to_categorical(y_train)\n",
        "y_test = keras.utils.to_categorical(y_test)"
      ],
      "execution_count": 8,
      "outputs": []
    },
    {
      "cell_type": "code",
      "metadata": {
        "id": "SNpMufw-IQRE"
      },
      "source": [
        "inpx = Input(shape=inpx)\n",
        "layer1 = Conv2D(32, kernel_size=(3, 3), activation='relu')(inpx)\n",
        "layer2 = Conv2D(64, (3, 3), activation='relu')(layer1)\n",
        "layer3 = MaxPooling2D(pool_size=(3, 3))(layer2)\n",
        "# To prevent overfitting\n",
        "layer4 = Dropout(0.5)(layer3)\n",
        "\n",
        "layer5 = Flatten()(layer4)\n",
        "layer6 = Dense(250, activation='sigmoid')(layer5)\n",
        "layer7 = Dense(10, activation='softmax')(layer6)"
      ],
      "execution_count": 9,
      "outputs": []
    },
    {
      "cell_type": "code",
      "metadata": {
        "id": "-CbolaPiIR7E",
        "colab": {
          "base_uri": "https://localhost:8080/"
        },
        "outputId": "baf6f29d-bde8-4768-8fc5-838c272bb4a5"
      },
      "source": [
        "model = Model([inpx], layer7)\n",
        "model.compile(optimizer=keras.optimizers.Adadelta(),\n",
        "              loss=keras.losses.categorical_crossentropy,\n",
        "              metrics=['accuracy'])\n",
        "\n",
        "model.fit(x_train, y_train, epochs=12, batch_size=500)"
      ],
      "execution_count": 10,
      "outputs": [
        {
          "output_type": "stream",
          "name": "stdout",
          "text": [
            "Epoch 1/12\n",
            "120/120 [==============================] - 14s 27ms/step - loss: 2.4915 - accuracy: 0.1098\n",
            "Epoch 2/12\n",
            "120/120 [==============================] - 4s 31ms/step - loss: 2.4737 - accuracy: 0.1111\n",
            "Epoch 3/12\n",
            "120/120 [==============================] - 4s 31ms/step - loss: 2.4556 - accuracy: 0.1125\n",
            "Epoch 4/12\n",
            "120/120 [==============================] - 3s 28ms/step - loss: 2.4379 - accuracy: 0.1144\n",
            "Epoch 5/12\n",
            "120/120 [==============================] - 3s 27ms/step - loss: 2.4207 - accuracy: 0.1161\n",
            "Epoch 6/12\n",
            "120/120 [==============================] - 3s 21ms/step - loss: 2.4043 - accuracy: 0.1184\n",
            "Epoch 7/12\n",
            "120/120 [==============================] - 3s 21ms/step - loss: 2.3883 - accuracy: 0.1189\n",
            "Epoch 8/12\n",
            "120/120 [==============================] - 2s 20ms/step - loss: 2.3726 - accuracy: 0.1208\n",
            "Epoch 9/12\n",
            "120/120 [==============================] - 2s 20ms/step - loss: 2.3577 - accuracy: 0.1238\n",
            "Epoch 10/12\n",
            "120/120 [==============================] - 2s 21ms/step - loss: 2.3434 - accuracy: 0.1247\n",
            "Epoch 11/12\n",
            "120/120 [==============================] - 3s 21ms/step - loss: 2.3295 - accuracy: 0.1287\n",
            "Epoch 12/12\n",
            "120/120 [==============================] - 2s 21ms/step - loss: 2.3159 - accuracy: 0.1353\n"
          ]
        },
        {
          "output_type": "execute_result",
          "data": {
            "text/plain": [
              "<keras.callbacks.History at 0x7fe7bb007e20>"
            ]
          },
          "metadata": {},
          "execution_count": 10
        }
      ]
    },
    {
      "cell_type": "code",
      "metadata": {
        "id": "tweY5aDoIUhU",
        "colab": {
          "base_uri": "https://localhost:8080/"
        },
        "outputId": "cbe17139-13e3-4e4e-f87a-f31b9b4cf8fc"
      },
      "source": [
        "score = model.evaluate(x_test, y_test, verbose=0)\n",
        "print('loss=', score[0])\n",
        "print('accuracy=', score[1])\n"
      ],
      "execution_count": 11,
      "outputs": [
        {
          "output_type": "stream",
          "name": "stdout",
          "text": [
            "loss= 2.3058552742004395\n",
            "accuracy= 0.11860000342130661\n"
          ]
        }
      ]
    },
    {
      "cell_type": "code",
      "metadata": {
        "id": "bk81VxpEIhUD",
        "colab": {
          "base_uri": "https://localhost:8080/"
        },
        "outputId": "83894218-0478-44af-c90e-7cce3341cdbc"
      },
      "source": [
        "#sinle Value predication in number\n",
        "predictions = model.predict(x_test)\n",
        "print(np.argmax(np.round(predictions[2])))\n"
      ],
      "execution_count": 12,
      "outputs": [
        {
          "output_type": "stream",
          "name": "stdout",
          "text": [
            "313/313 [==============================] - 1s 2ms/step\n",
            "0\n"
          ]
        }
      ]
    },
    {
      "cell_type": "code",
      "metadata": {
        "id": "gis9DX7yLQce",
        "colab": {
          "base_uri": "https://localhost:8080/",
          "height": 430
        },
        "outputId": "8136983b-68d7-40d8-a289-e0c082567967"
      },
      "source": [
        "#sinle Value predication in graph (plot)\n",
        "import matplotlib.pyplot as plt\n",
        "plt.imshow(x_test[2].reshape(28, 28), cmap = plt.cm.binary)\n",
        "plt.show()\n"
      ],
      "execution_count": 13,
      "outputs": [
        {
          "output_type": "display_data",
          "data": {
            "text/plain": [
              "<Figure size 640x480 with 1 Axes>"
            ],
            "image/png": "[encoded data removed]"
          },
          "metadata": {}
        }
      ]
    },
    {
      "cell_type": "code",
      "metadata": {
        "id": "wZJPq0hoFl-4"
      },
      "source": [
        "-------------End----------------"
      ],
      "execution_count": null,
      "outputs": []
    },
    {
      "cell_type": "code",
      "metadata": {
        "id": "iFzNmFYeFmSu"
      },
      "source": [],
      "execution_count": null,
      "outputs": []
    },
    {
      "cell_type": "code",
      "metadata": {
        "id": "0VABIlaLFmju"
      },
      "source": [],
      "execution_count": null,
      "outputs": []
    },
    {
      "cell_type": "code",
      "metadata": {
        "id": "udPQ4Ch3LQjN",
        "colab": {
          "base_uri": "https://localhost:8080/",
          "height": 70
        },
        "outputId": "71cbf945-93f6-4467-9b7b-da5efac55c7f"
      },
      "source": [
        "# Fashion-MNIST is a dataset of Zalando's article images consisting of a training set of 60,000 examples and a test set of 10,000 examples.\n",
        "# Each example is a 28x28 grayscale image, associated with a label from 10 classes.\n",
        "\n",
        "\n",
        "'''Labels\n",
        "\n",
        "Each training and test example is assigned to one of the following labels:\n",
        "\n",
        "0 T-shirt/top\n",
        "1 Trouser\n",
        "2 Pullover\n",
        "3 Dress\n",
        "4 Coat\n",
        "5 Sandal\n",
        "6 Shirt\n",
        "7 Sneaker\n",
        "8 Bag\n",
        "9 Ankle boot '''\n",
        "\n",
        "# for further assistance https://www.kaggle.com/zalando-research/fashionmnist\n"
      ],
      "execution_count": 14,
      "outputs": [
        {
          "output_type": "execute_result",
          "data": {
            "text/plain": [
              "'Labels\\n\\nEach training and test example is assigned to one of the following labels:\\n\\n0 T-shirt/top\\n1 Trouser\\n2 Pullover\\n3 Dress\\n4 Coat\\n5 Sandal\\n6 Shirt\\n7 Sneaker\\n8 Bag\\n9 Ankle boot '"
            ],
            "application/vnd.google.colaboratory.intrinsic+json": {
              "type": "string"
            }
          },
          "metadata": {},
          "execution_count": 14
        }
      ]
    },
    {
      "cell_type": "code",
      "metadata": {
        "id": "e0ztU2jQLQo8",
        "colab": {
          "base_uri": "https://localhost:8080/"
        },
        "outputId": "3d1d4a17-0aaf-4dbe-f852-3728c2c169bc"
      },
      "source": [
        "import keras\n",
        "from keras.datasets import fashion_mnist\n",
        "from keras.layers import Dense, Activation, Flatten, Conv2D, MaxPooling2D\n",
        "from keras.models import Sequential\n",
        "from keras.utils import to_categorical\n",
        "import numpy as np\n",
        "import matplotlib.pyplot as plt\n",
        "\n",
        "(train_X,train_Y), (test_X,test_Y) = fashion_mnist.load_data()"
      ],
      "execution_count": 15,
      "outputs": [
        {
          "output_type": "stream",
          "name": "stdout",
          "text": [
            "Downloading data from https://storage.googleapis.com/tensorflow/tf-keras-datasets/train-labels-idx1-ubyte.gz\n",
            "29515/29515 [==============================] - 0s 0us/step\n",
            "Downloading data from https://storage.googleapis.com/tensorflow/tf-keras-datasets/train-images-idx3-ubyte.gz\n",
            "26421880/26421880 [==============================] - 0s 0us/step\n",
            "Downloading data from https://storage.googleapis.com/tensorflow/tf-keras-datasets/t10k-labels-idx1-ubyte.gz\n",
            "5148/5148 [==============================] - 0s 0us/step\n",
            "Downloading data from https://storage.googleapis.com/tensorflow/tf-keras-datasets/t10k-images-idx3-ubyte.gz\n",
            "4422102/4422102 [==============================] - 0s 0us/step\n"
          ]
        }
      ]
    },
    {
      "cell_type": "code",
      "metadata": {
        "id": "fghaV16I2U7n",
        "colab": {
          "base_uri": "https://localhost:8080/",
          "height": 468
        },
        "outputId": "efd13bbb-77a2-49b9-f9ca-698cd48bd177"
      },
      "source": [
        "# example of loading the fashion mnist dataset\n",
        "from matplotlib import pyplot\n",
        "from keras.datasets import fashion_mnist\n",
        "# load dataset\n",
        "(trainX, trainy), (testX, testy) = fashion_mnist.load_data()\n",
        "# summarize loaded dataset\n",
        "print('Train: X=%s, y=%s' % (trainX.shape, trainy.shape))\n",
        "print('Test: X=%s, y=%s' % (testX.shape, testy.shape))\n",
        "# plot first few images\n",
        "for i in range(9):\n",
        "\t# define subplot\n",
        "\tpyplot.subplot(330 + 1 + i)\n",
        "\t# plot raw pixel data\n",
        "\tpyplot.imshow(trainX[i], cmap=pyplot.get_cmap('gray'))\n",
        "# show the figure\n",
        "pyplot.show()"
      ],
      "execution_count": 16,
      "outputs": [
        {
          "output_type": "stream",
          "name": "stdout",
          "text": [
            "Train: X=(60000, 28, 28), y=(60000,)\n",
            "Test: X=(10000, 28, 28), y=(10000,)\n"
          ]
        },
        {
          "output_type": "display_data",
          "data": {
            "text/plain": [
              "<Figure size 640x480 with 9 Axes>"
            ],
            "image/png": "[encoded data removed]"
          },
          "metadata": {}
        }
      ]
    },
    {
      "cell_type": "code",
      "metadata": {
        "id": "Cc7j9XWf2VMV"
      },
      "source": [
        "# reshape dataset to have a single channel\n",
        "train_X = train_X.reshape(-1, 28,28, 1)\n",
        "test_X = test_X.reshape(-1, 28,28, 1)\n",
        "\n",
        "##convert from integers to floats\n",
        "train_X = train_X.astype('float32')\n",
        "test_X = test_X.astype('float32')\n",
        "\n",
        "#Nor. 0 to 1\n",
        "train_X = train_X / 255\n",
        "test_X = test_X / 255\n",
        "\n",
        "# convert to one hot encoder (vector)\n",
        "train_Y_one_hot = to_categorical(train_Y)\n",
        "test_Y_one_hot = to_categorical(test_Y)\n"
      ],
      "execution_count": 17,
      "outputs": []
    },
    {
      "cell_type": "code",
      "metadata": {
        "id": "z2QfDgkg2Vat"
      },
      "source": [
        "\n",
        "model = Sequential()\n",
        "\n",
        "model.add(Conv2D(64, (3,3), input_shape=(28, 28, 1)))\n",
        "model.add(Activation('relu'))\n",
        "model.add(MaxPooling2D(pool_size=(2,2)))\n",
        "\n",
        "model.add(Conv2D(64, (3,3)))\n",
        "model.add(Activation('relu'))\n",
        "model.add(MaxPooling2D(pool_size=(2,2)))\n",
        "\n",
        "model.add(Flatten())\n",
        "model.add(Dense(64))\n",
        "\n",
        "model.add(Dense(10))\n",
        "model.add(Activation('softmax'))\n",
        "\n",
        "model.compile(loss=keras.losses.categorical_crossentropy, optimizer=keras.optimizers.Adam(),metrics=['accuracy'])\n"
      ],
      "execution_count": 18,
      "outputs": []
    },
    {
      "cell_type": "code",
      "metadata": {
        "id": "NduAqE7OLRhc",
        "colab": {
          "base_uri": "https://localhost:8080/"
        },
        "outputId": "a1516e67-6d9c-47bc-c436-c7d2f616982e"
      },
      "source": [
        "model.fit(train_X, train_Y_one_hot, batch_size=64, epochs=5)"
      ],
      "execution_count": 19,
      "outputs": [
        {
          "output_type": "stream",
          "name": "stdout",
          "text": [
            "Epoch 1/5\n",
            "938/938 [==============================] - 4s 4ms/step - loss: 0.4682 - accuracy: 0.8300\n",
            "Epoch 2/5\n",
            "938/938 [==============================] - 4s 4ms/step - loss: 0.3209 - accuracy: 0.8836\n",
            "Epoch 3/5\n",
            "938/938 [==============================] - 4s 4ms/step - loss: 0.2822 - accuracy: 0.8976\n",
            "Epoch 4/5\n",
            "938/938 [==============================] - 4s 4ms/step - loss: 0.2517 - accuracy: 0.9083\n",
            "Epoch 5/5\n",
            "938/938 [==============================] - 4s 4ms/step - loss: 0.2322 - accuracy: 0.9143\n"
          ]
        },
        {
          "output_type": "execute_result",
          "data": {
            "text/plain": [
              "<keras.callbacks.History at 0x7fe722e17af0>"
            ]
          },
          "metadata": {},
          "execution_count": 19
        }
      ]
    },
    {
      "cell_type": "code",
      "metadata": {
        "id": "LDmH7hwhL0p3",
        "colab": {
          "base_uri": "https://localhost:8080/"
        },
        "outputId": "c19edc53-3884-40f1-dc26-d915e48354c5"
      },
      "source": [
        "test_loss, test_acc = model.evaluate(test_X, test_Y_one_hot)\n",
        "print('Test loss', test_loss)\n",
        "print('Test accuracy', test_acc)"
      ],
      "execution_count": 20,
      "outputs": [
        {
          "output_type": "stream",
          "name": "stdout",
          "text": [
            "313/313 [==============================] - 1s 3ms/step - loss: 0.2776 - accuracy: 0.9024\n",
            "Test loss 0.2775956094264984\n",
            "Test accuracy 0.902400016784668\n"
          ]
        }
      ]
    },
    {
      "cell_type": "code",
      "metadata": {
        "id": "kEmTaidB8byl",
        "colab": {
          "base_uri": "https://localhost:8080/"
        },
        "outputId": "a8f4e0e9-be06-4130-bcbd-8bb4358a582a"
      },
      "source": [
        "#sinle Value predication in number (category)\n",
        "predictions = model.predict(test_X)\n",
        "print(np.argmax(np.round(predictions[1])))"
      ],
      "execution_count": 21,
      "outputs": [
        {
          "output_type": "stream",
          "name": "stdout",
          "text": [
            "313/313 [==============================] - 1s 2ms/step\n",
            "2\n"
          ]
        }
      ]
    },
    {
      "cell_type": "code",
      "metadata": {
        "id": "QGUpLrvp8gtp",
        "colab": {
          "base_uri": "https://localhost:8080/",
          "height": 430
        },
        "outputId": "c7b50cd5-7e71-45d7-bec9-8c562bde84ed"
      },
      "source": [
        "#sinle Value predication in graph (plot)\n",
        "plt.imshow(test_X[1].reshape(28, 28), cmap = plt.cm.binary)\n",
        "plt.show()"
      ],
      "execution_count": 22,
      "outputs": [
        {
          "output_type": "display_data",
          "data": {
            "text/plain": [
              "<Figure size 640x480 with 1 Axes>"
            ],
            "image/png": "[encoded data removed]"
          },
          "metadata": {}
        }
      ]
    },
    {
      "cell_type": "code",
      "metadata": {
        "id": "lKfISKLN8hyZ"
      },
      "source": [],
      "execution_count": null,
      "outputs": []
    }
  ]
}