{
  "nbformat": 4,
  "nbformat_minor": 0,
  "metadata": {
    "colab": {
      "provenance": []
    },
    "kernelspec": {
      "name": "python3",
      "display_name": "Python 3"
    }
  },
  "cells": [
    {
      "cell_type": "code",
      "metadata": {
        "id": "DpydxBQfpLaD",
        "outputId": "c0e9fa26-cbb5-46d2-8768-67c7ea8f592a",
        "colab": {
          "base_uri": "https://localhost:8080/",
          "height": 938
        }
      },
      "source": [
        "import pandas as pd\n",
        "BHNames= ['crim','zn','indus','chas','nox','rm',\n",
        "         'age','dis','rad','tax','ptratio','black','lstat','medv']\n",
        "\n",
        "\n",
        "url='https://archive.ics.uci.edu/ml/machine-learning-databases/housing/housing.data'\n",
        "data = pd.read_csv(url, delim_whitespace=True, names=BHNames)\n",
        "\n",
        "print(data.head(20))\n",
        "\n",
        "\n",
        "'''\n",
        "CRIM: Per capita crime rate by town\n",
        "ZN: Proportion of residential land zoned for lots over 25,000 sq. ft\n",
        "INDUS: Proportion of non-retail business acres per town\n",
        "CHAS: Charles River dummy variable (= 1 if tract bounds river; 0 otherwise)\n",
        "NOX: Nitric oxide concentration (parts per 10 million)\n",
        "RM: Average number of rooms per dwelling\n",
        "AGE: Proportion of owner-occupied units built prior to 1940\n",
        "DIS: Weighted distances to five Boston employment centers\n",
        "RAD: Index of accessibility to radial highways\n",
        "TAX: Full-value property tax rate per $10,000\n",
        "PTRATIO: Pupil-teacher ratio by town\n",
        "B: 1000(Bk — 0.63)², where Bk is the proportion of [people of African American descent] by town\n",
        "LSTAT: Percentage of lower status of the population\n",
        "MEDV: Median value of owner-occupied homes in $1000s'''"
      ],
      "execution_count": 1,
      "outputs": [
        {
          "output_type": "stream",
          "name": "stdout",
          "text": [
            "       crim    zn  indus  chas    nox     rm    age     dis  rad    tax  \\\n",
            "0   0.00632  18.0   2.31     0  0.538  6.575   65.2  4.0900    1  296.0   \n",
            "1   0.02731   0.0   7.07     0  0.469  6.421   78.9  4.9671    2  242.0   \n",
            "2   0.02729   0.0   7.07     0  0.469  7.185   61.1  4.9671    2  242.0   \n",
            "3   0.03237   0.0   2.18     0  0.458  6.998   45.8  6.0622    3  222.0   \n",
            "4   0.06905   0.0   2.18     0  0.458  7.147   54.2  6.0622    3  222.0   \n",
            "5   0.02985   0.0   2.18     0  0.458  6.430   58.7  6.0622    3  222.0   \n",
            "6   0.08829  12.5   7.87     0  0.524  6.012   66.6  5.5605    5  311.0   \n",
            "7   0.14455  12.5   7.87     0  0.524  6.172   96.1  5.9505    5  311.0   \n",
            "8   0.21124  12.5   7.87     0  0.524  5.631  100.0  6.0821    5  311.0   \n",
            "9   0.17004  12.5   7.87     0  0.524  6.004   85.9  6.5921    5  311.0   \n",
            "10  0.22489  12.5   7.87     0  0.524  6.377   94.3  6.3467    5  311.0   \n",
            "11  0.11747  12.5   7.87     0  0.524  6.009   82.9  6.2267    5  311.0   \n",
            "12  0.09378  12.5   7.87     0  0.524  5.889   39.0  5.4509    5  311.0   \n",
            "13  0.62976   0.0   8.14     0  0.538  5.949   61.8  4.7075    4  307.0   \n",
            "14  0.63796   0.0   8.14     0  0.538  6.096   84.5  4.4619    4  307.0   \n",
            "15  0.62739   0.0   8.14     0  0.538  5.834   56.5  4.4986    4  307.0   \n",
            "16  1.05393   0.0   8.14     0  0.538  5.935   29.3  4.4986    4  307.0   \n",
            "17  0.78420   0.0   8.14     0  0.538  5.990   81.7  4.2579    4  307.0   \n",
            "18  0.80271   0.0   8.14     0  0.538  5.456   36.6  3.7965    4  307.0   \n",
            "19  0.72580   0.0   8.14     0  0.538  5.727   69.5  3.7965    4  307.0   \n",
            "\n",
            "    ptratio   black  lstat  medv  \n",
            "0      15.3  396.90   4.98  24.0  \n",
            "1      17.8  396.90   9.14  21.6  \n",
            "2      17.8  392.83   4.03  34.7  \n",
            "3      18.7  394.63   2.94  33.4  \n",
            "4      18.7  396.90   5.33  36.2  \n",
            "5      18.7  394.12   5.21  28.7  \n",
            "6      15.2  395.60  12.43  22.9  \n",
            "7      15.2  396.90  19.15  27.1  \n",
            "8      15.2  386.63  29.93  16.5  \n",
            "9      15.2  386.71  17.10  18.9  \n",
            "10     15.2  392.52  20.45  15.0  \n",
            "11     15.2  396.90  13.27  18.9  \n",
            "12     15.2  390.50  15.71  21.7  \n",
            "13     21.0  396.90   8.26  20.4  \n",
            "14     21.0  380.02  10.26  18.2  \n",
            "15     21.0  395.62   8.47  19.9  \n",
            "16     21.0  386.85   6.58  23.1  \n",
            "17     21.0  386.75  14.67  17.5  \n",
            "18     21.0  288.99  11.69  20.2  \n",
            "19     21.0  390.95  11.28  18.2  \n"
          ]
        },
        {
          "output_type": "execute_result",
          "data": {
            "text/plain": [
              "'\\nCRIM: Per capita crime rate by town\\nZN: Proportion of residential land zoned for lots over 25,000 sq. ft\\nINDUS: Proportion of non-retail business acres per town\\nCHAS: Charles River dummy variable (= 1 if tract bounds river; 0 otherwise)\\nNOX: Nitric oxide concentration (parts per 10 million)\\nRM: Average number of rooms per dwelling\\nAGE: Proportion of owner-occupied units built prior to 1940\\nDIS: Weighted distances to five Boston employment centers\\nRAD: Index of accessibility to radial highways\\nTAX: Full-value property tax rate per $10,000\\nPTRATIO: Pupil-teacher ratio by town\\nB: 1000(Bk — 0.63)², where Bk is the proportion of [people of African American descent] by town\\nLSTAT: Percentage of lower status of the population\\nMEDV: Median value of owner-occupied homes in $1000s'"
            ],
            "application/vnd.google.colaboratory.intrinsic+json": {
              "type": "string"
            }
          },
          "metadata": {},
          "execution_count": 1
        }
      ]
    },
    {
      "cell_type": "code",
      "metadata": {
        "id": "RMiYKr_jp722",
        "outputId": "8fe6687b-bce5-4e55-a106-d4dcec5330ca",
        "colab": {
          "base_uri": "https://localhost:8080/"
        }
      },
      "source": [
        "from sklearn.model_selection import train_test_split\n",
        "\n",
        "X = data.drop('medv', axis = 1)\n",
        "print('X shape = ',X.shape)\n",
        "Y = data['medv']\n",
        "print('Y shape = ',Y.shape)\n",
        "\n",
        "\n"
      ],
      "execution_count": 2,
      "outputs": [
        {
          "output_type": "stream",
          "name": "stdout",
          "text": [
            "X shape =  (506, 13)\n",
            "Y shape =  (506,)\n"
          ]
        }
      ]
    },
    {
      "cell_type": "code",
      "metadata": {
        "id": "3bql01wWq32H",
        "outputId": "b6118129-80c0-446e-a00a-ba71954b6629",
        "colab": {
          "base_uri": "https://localhost:8080/"
        }
      },
      "source": [
        "from sklearn import linear_model\n",
        "import matplotlib.pyplot as plt\n",
        "\n",
        "names = data.drop('medv', axis =1).columns\n",
        "print(names)"
      ],
      "execution_count": 3,
      "outputs": [
        {
          "output_type": "stream",
          "name": "stdout",
          "text": [
            "Index(['crim', 'zn', 'indus', 'chas', 'nox', 'rm', 'age', 'dis', 'rad', 'tax',\n",
            "       'ptratio', 'black', 'lstat'],\n",
            "      dtype='object')\n"
          ]
        }
      ]
    },
    {
      "cell_type": "code",
      "metadata": {
        "id": "5wUtPjbSsG83"
      },
      "source": [
        "lasso = linear_model.Lasso(alpha=0.2)\n"
      ],
      "execution_count": 4,
      "outputs": []
    },
    {
      "cell_type": "code",
      "metadata": {
        "id": "ax6quoUMtkPP"
      },
      "source": [
        "lasso_coef = lasso.fit(X,Y).coef_\n"
      ],
      "execution_count": 5,
      "outputs": []
    },
    {
      "cell_type": "code",
      "metadata": {
        "id": "T0TO-n4qu7md",
        "outputId": "ed5afbf6-24dc-495b-8f49-7614b1091c26",
        "colab": {
          "base_uri": "https://localhost:8080/",
          "height": 463
        }
      },
      "source": [
        "plt.plot(range(len(names)),lasso_coef )\n",
        "plt.xticks(range(len(names)), names, rotation=60)\n",
        "plt.ylabel(\"coefficient\")\n",
        "plt.show()"
      ],
      "execution_count": 6,
      "outputs": [
        {
          "output_type": "display_data",
          "data": {
            "text/plain": [
              "<Figure size 640x480 with 1 Axes>"
            ],
            "image/png": "[encoded data removed]"
          },
          "metadata": {}
        }
      ]
    },
    {
      "cell_type": "code",
      "metadata": {
        "id": "8fiKe-cBu9r6"
      },
      "source": [],
      "execution_count": null,
      "outputs": []
    },
    {
      "cell_type": "code",
      "metadata": {
        "id": "hoT_Av3gv0cE"
      },
      "source": [],
      "execution_count": null,
      "outputs": []
    },
    {
      "cell_type": "code",
      "metadata": {
        "id": "H_ffHZlQwCn8"
      },
      "source": [
        "#For Ridge\n",
        "from sklearn.preprocessing import StandardScaler\n",
        "scaler = StandardScaler()\n",
        "x_std = scaler.fit_transform(X)\n"
      ],
      "execution_count": 7,
      "outputs": []
    },
    {
      "cell_type": "code",
      "metadata": {
        "id": "lABoF1ZPwHUM"
      },
      "source": [
        "from sklearn.linear_model import Ridge\n",
        "ridge = Ridge(alpha=0.2)\n",
        "\n",
        "\n"
      ],
      "execution_count": 8,
      "outputs": []
    },
    {
      "cell_type": "code",
      "metadata": {
        "id": "wGL6vMvMxFAL"
      },
      "source": [
        "model = ridge.fit(x_std,Y).coef_"
      ],
      "execution_count": 9,
      "outputs": []
    },
    {
      "cell_type": "code",
      "metadata": {
        "id": "U0E_12wDSXjW",
        "outputId": "295767dd-b36f-414d-e20f-3dd108960bb8",
        "colab": {
          "base_uri": "https://localhost:8080/",
          "height": 68
        }
      },
      "source": [
        "model"
      ],
      "execution_count": null,
      "outputs": [
        {
          "output_type": "execute_result",
          "data": {
            "text/plain": [
              "array([-0.92646068,  1.07849275,  0.13607368,  0.68243527, -2.05110798,\n",
              "        2.6759721 ,  0.01817939, -3.09866587,  2.64775331, -2.06318543,\n",
              "       -2.05894196,  0.84918485, -3.74101393])"
            ]
          },
          "metadata": {
            "tags": []
          },
          "execution_count": 178
        }
      ]
    },
    {
      "cell_type": "code",
      "metadata": {
        "id": "sOFxMZAUSXzT"
      },
      "source": [],
      "execution_count": null,
      "outputs": []
    },
    {
      "cell_type": "code",
      "metadata": {
        "id": "0adb5-9JSYA7"
      },
      "source": [],
      "execution_count": null,
      "outputs": []
    },
    {
      "cell_type": "code",
      "metadata": {
        "id": "JTueOnm7SYPT"
      },
      "source": [],
      "execution_count": null,
      "outputs": []
    },
    {
      "cell_type": "code",
      "metadata": {
        "id": "Jhg13ZcHSYck"
      },
      "source": [],
      "execution_count": null,
      "outputs": []
    },
    {
      "cell_type": "code",
      "metadata": {
        "id": "T3Y2JzB7SYoj"
      },
      "source": [],
      "execution_count": null,
      "outputs": []
    },
    {
      "cell_type": "code",
      "metadata": {
        "id": "00V8r3TiSY0j"
      },
      "source": [],
      "execution_count": null,
      "outputs": []
    },
    {
      "cell_type": "code",
      "metadata": {
        "id": "HLRt2ezoSZAz"
      },
      "source": [],
      "execution_count": null,
      "outputs": []
    },
    {
      "cell_type": "code",
      "metadata": {
        "id": "gSGXG63ZSZOT"
      },
      "source": [],
      "execution_count": null,
      "outputs": []
    },
    {
      "cell_type": "code",
      "metadata": {
        "id": "8VV4baOgxFOZ"
      },
      "source": [
        "'''\n",
        "rr = Ridge(alpha=0.4)\n",
        "rr.fit(X_std, Y)\n",
        "\n",
        "plt.scatter(X_std, Y)\n",
        "plt.plot(X_std, c='red')\n",
        "\n",
        "plt.plot(model.coef_,linestyle='none',marker='o',markersize=10,color='green')\n",
        "plt.xlabel('Coefficient Index',fontsize=16)\n",
        "plt.ylabel('Coefficient Magnitude',fontsize=16)\n",
        "plt.legend(fontsize=13,loc=4)\n",
        "plt.show()'''"
      ],
      "execution_count": null,
      "outputs": []
    },
    {
      "cell_type": "code",
      "metadata": {
        "id": "Yw-PNnunyXxY"
      },
      "source": [],
      "execution_count": null,
      "outputs": []
    }
  ]
}